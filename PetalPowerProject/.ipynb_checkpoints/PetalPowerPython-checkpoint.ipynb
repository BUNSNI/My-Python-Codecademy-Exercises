{
 "cells": [
  {
   "cell_type": "code",
   "execution_count": 4,
   "id": "reliable-truck",
   "metadata": {},
   "outputs": [],
   "source": [
    "import pandas as pd\n",
    "import numpy as np"
   ]
  },
  {
   "cell_type": "code",
   "execution_count": 5,
   "id": "green-amateur",
   "metadata": {},
   "outputs": [
    {
     "name": "stdout",
     "output_type": "stream",
     "text": [
      "         location  product_type         product_description  quantity  price\n",
      "0   Staten Island         seeds                       daisy         4   6.99\n",
      "1   Staten Island         seeds                  calla lily        46  19.99\n",
      "2   Staten Island         seeds                      tomato        85  13.99\n",
      "3   Staten Island  garden tools                        rake         4  13.99\n",
      "4   Staten Island  garden tools                 wheelbarrow         0  89.99\n",
      "5   Staten Island  garden tools                       spade        93  19.99\n",
      "6   Staten Island  pest_control               insect killer        74  12.99\n",
      "7   Staten Island  pest_control                 weed killer         8  23.99\n",
      "8   Staten Island       planter  20 inch terracotta planter         0  17.99\n",
      "9   Staten Island       planter      8 inch plastic planter        53   3.99\n",
      "10       Brooklyn         seeds                       daisy        50   6.99\n",
      "11       Brooklyn         seeds                  calla lily         0  19.99\n",
      "12       Brooklyn         seeds                      tomato         0  13.99\n",
      "13       Brooklyn  garden tools                        rake        15  13.99\n",
      "14       Brooklyn  garden tools                 wheelbarrow        82  89.99\n",
      "15       Brooklyn  garden tools                       spade        36  19.99\n",
      "16       Brooklyn  pest_control               insect killer        80  12.99\n",
      "17       Brooklyn  pest_control                 weed killer        76  23.99\n",
      "18       Brooklyn       planter  20 inch terracotta planter         5  17.99\n",
      "19       Brooklyn       planter      8 inch plastic planter        26   3.99\n",
      "20         Queens         seeds                       daisy        57   6.99\n",
      "21         Queens         seeds                  calla lily        95  19.99\n",
      "22         Queens         seeds                      tomato        45  13.99\n",
      "23         Queens  garden tools                        rake        21  13.99\n",
      "24         Queens  garden tools                 wheelbarrow        98  89.99\n",
      "25         Queens  garden tools                       spade        26  19.99\n",
      "26         Queens  pest_control               insect killer         0  12.99\n",
      "27         Queens  pest_control                 weed killer        16  23.99\n",
      "28         Queens       planter  20 inch terracotta planter        87  17.99\n"
     ]
    }
   ],
   "source": [
    "inventory = pd.read_csv('inventory.csv')\n",
    "print(inventory)"
   ]
  },
  {
   "cell_type": "code",
   "execution_count": null,
   "id": "parliamentary-lexington",
   "metadata": {},
   "outputs": [],
   "source": []
  }
 ],
 "metadata": {
  "kernelspec": {
   "display_name": "Python 3",
   "language": "python",
   "name": "python3"
  },
  "language_info": {
   "codemirror_mode": {
    "name": "ipython",
    "version": 3
   },
   "file_extension": ".py",
   "mimetype": "text/x-python",
   "name": "python",
   "nbconvert_exporter": "python",
   "pygments_lexer": "ipython3",
   "version": "3.8.5"
  }
 },
 "nbformat": 4,
 "nbformat_minor": 5
}
