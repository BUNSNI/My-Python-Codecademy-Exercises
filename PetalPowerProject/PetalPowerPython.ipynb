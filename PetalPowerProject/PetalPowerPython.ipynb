{
 "cells": [
  {
   "cell_type": "code",
   "execution_count": 8,
   "id": "reliable-truck",
   "metadata": {},
   "outputs": [],
   "source": [
    "import pandas as pd\n",
    "import numpy as np"
   ]
  },
  {
   "cell_type": "code",
   "execution_count": 9,
   "id": "green-amateur",
   "metadata": {},
   "outputs": [
    {
     "name": "stdout",
     "output_type": "stream",
     "text": [
      "         location  product_type         product_description  quantity  price\n",
      "0   Staten Island         seeds                       daisy         4   6.99\n",
      "1   Staten Island         seeds                  calla lily        46  19.99\n",
      "2   Staten Island         seeds                      tomato        85  13.99\n",
      "3   Staten Island  garden tools                        rake         4  13.99\n",
      "4   Staten Island  garden tools                 wheelbarrow         0  89.99\n",
      "5   Staten Island  garden tools                       spade        93  19.99\n",
      "6   Staten Island  pest_control               insect killer        74  12.99\n",
      "7   Staten Island  pest_control                 weed killer         8  23.99\n",
      "8   Staten Island       planter  20 inch terracotta planter         0  17.99\n",
      "9   Staten Island       planter      8 inch plastic planter        53   3.99\n",
      "10       Brooklyn         seeds                       daisy        50   6.99\n",
      "11       Brooklyn         seeds                  calla lily         0  19.99\n",
      "12       Brooklyn         seeds                      tomato         0  13.99\n",
      "13       Brooklyn  garden tools                        rake        15  13.99\n",
      "14       Brooklyn  garden tools                 wheelbarrow        82  89.99\n",
      "15       Brooklyn  garden tools                       spade        36  19.99\n",
      "16       Brooklyn  pest_control               insect killer        80  12.99\n",
      "17       Brooklyn  pest_control                 weed killer        76  23.99\n",
      "18       Brooklyn       planter  20 inch terracotta planter         5  17.99\n",
      "19       Brooklyn       planter      8 inch plastic planter        26   3.99\n",
      "20         Queens         seeds                       daisy        57   6.99\n",
      "21         Queens         seeds                  calla lily        95  19.99\n",
      "22         Queens         seeds                      tomato        45  13.99\n",
      "23         Queens  garden tools                        rake        21  13.99\n",
      "24         Queens  garden tools                 wheelbarrow        98  89.99\n",
      "25         Queens  garden tools                       spade        26  19.99\n",
      "26         Queens  pest_control               insect killer         0  12.99\n",
      "27         Queens  pest_control                 weed killer        16  23.99\n",
      "28         Queens       planter  20 inch terracotta planter        87  17.99\n"
     ]
    }
   ],
   "source": [
    "inventory = pd.read_csv('inventory.csv')\n",
    "print(inventory)"
   ]
  },
  {
   "cell_type": "code",
   "execution_count": 12,
   "id": "entertaining-columbia",
   "metadata": {},
   "outputs": [],
   "source": [
    "#print(inventory.head(10))"
   ]
  },
  {
   "cell_type": "code",
   "execution_count": 10,
   "id": "recovered-farmer",
   "metadata": {},
   "outputs": [],
   "source": [
    "staten_island = inventory[inventory['location'] == 'Staten Island']"
   ]
  },
  {
   "cell_type": "code",
   "execution_count": 11,
   "id": "monthly-black",
   "metadata": {},
   "outputs": [
    {
     "name": "stdout",
     "output_type": "stream",
     "text": [
      "        location  product_type         product_description  quantity  price\n",
      "0  Staten Island         seeds                       daisy         4   6.99\n",
      "1  Staten Island         seeds                  calla lily        46  19.99\n",
      "2  Staten Island         seeds                      tomato        85  13.99\n",
      "3  Staten Island  garden tools                        rake         4  13.99\n",
      "4  Staten Island  garden tools                 wheelbarrow         0  89.99\n",
      "5  Staten Island  garden tools                       spade        93  19.99\n",
      "6  Staten Island  pest_control               insect killer        74  12.99\n",
      "7  Staten Island  pest_control                 weed killer         8  23.99\n",
      "8  Staten Island       planter  20 inch terracotta planter         0  17.99\n",
      "9  Staten Island       planter      8 inch plastic planter        53   3.99\n"
     ]
    }
   ],
   "source": [
    "print(staten_island)"
   ]
  },
  {
   "cell_type": "code",
   "execution_count": 13,
   "id": "conditional-simulation",
   "metadata": {},
   "outputs": [],
   "source": [
    "product_request = staten_island['product_description']"
   ]
  },
  {
   "cell_type": "code",
   "execution_count": 14,
   "id": "vulnerable-remains",
   "metadata": {},
   "outputs": [
    {
     "name": "stdout",
     "output_type": "stream",
     "text": [
      "0                         daisy\n",
      "1                    calla lily\n",
      "2                        tomato\n",
      "3                          rake\n",
      "4                   wheelbarrow\n",
      "5                         spade\n",
      "6                 insect killer\n",
      "7                   weed killer\n",
      "8    20 inch terracotta planter\n",
      "9        8 inch plastic planter\n",
      "Name: product_description, dtype: object\n"
     ]
    }
   ],
   "source": [
    "print(product_request)"
   ]
  },
  {
   "cell_type": "code",
   "execution_count": 17,
   "id": "composite-retro",
   "metadata": {},
   "outputs": [],
   "source": [
    "seed_request = inventory[(inventory['location'] == 'Brooklyn') & (inventory['product_type'] == 'seeds')]"
   ]
  },
  {
   "cell_type": "code",
   "execution_count": 18,
   "id": "proud-comedy",
   "metadata": {},
   "outputs": [
    {
     "name": "stdout",
     "output_type": "stream",
     "text": [
      "    location product_type product_description  quantity  price\n",
      "10  Brooklyn        seeds               daisy        50   6.99\n",
      "11  Brooklyn        seeds          calla lily         0  19.99\n",
      "12  Brooklyn        seeds              tomato         0  13.99\n"
     ]
    }
   ],
   "source": [
    "print(seed_request)"
   ]
  },
  {
   "cell_type": "code",
   "execution_count": 28,
   "id": "developed-essay",
   "metadata": {},
   "outputs": [],
   "source": [
    "inventory['in_stock'] = inventory['quantity'].apply(lambda x : 'True' if x > 0 else 'False')"
   ]
  },
  {
   "cell_type": "code",
   "execution_count": 29,
   "id": "certified-green",
   "metadata": {},
   "outputs": [
    {
     "name": "stdout",
     "output_type": "stream",
     "text": [
      "         location  product_type         product_description  quantity  price  \\\n",
      "0   Staten Island         seeds                       daisy         4   6.99   \n",
      "1   Staten Island         seeds                  calla lily        46  19.99   \n",
      "2   Staten Island         seeds                      tomato        85  13.99   \n",
      "3   Staten Island  garden tools                        rake         4  13.99   \n",
      "4   Staten Island  garden tools                 wheelbarrow         0  89.99   \n",
      "5   Staten Island  garden tools                       spade        93  19.99   \n",
      "6   Staten Island  pest_control               insect killer        74  12.99   \n",
      "7   Staten Island  pest_control                 weed killer         8  23.99   \n",
      "8   Staten Island       planter  20 inch terracotta planter         0  17.99   \n",
      "9   Staten Island       planter      8 inch plastic planter        53   3.99   \n",
      "10       Brooklyn         seeds                       daisy        50   6.99   \n",
      "11       Brooklyn         seeds                  calla lily         0  19.99   \n",
      "12       Brooklyn         seeds                      tomato         0  13.99   \n",
      "13       Brooklyn  garden tools                        rake        15  13.99   \n",
      "14       Brooklyn  garden tools                 wheelbarrow        82  89.99   \n",
      "15       Brooklyn  garden tools                       spade        36  19.99   \n",
      "16       Brooklyn  pest_control               insect killer        80  12.99   \n",
      "17       Brooklyn  pest_control                 weed killer        76  23.99   \n",
      "18       Brooklyn       planter  20 inch terracotta planter         5  17.99   \n",
      "19       Brooklyn       planter      8 inch plastic planter        26   3.99   \n",
      "20         Queens         seeds                       daisy        57   6.99   \n",
      "21         Queens         seeds                  calla lily        95  19.99   \n",
      "22         Queens         seeds                      tomato        45  13.99   \n",
      "23         Queens  garden tools                        rake        21  13.99   \n",
      "24         Queens  garden tools                 wheelbarrow        98  89.99   \n",
      "25         Queens  garden tools                       spade        26  19.99   \n",
      "26         Queens  pest_control               insect killer         0  12.99   \n",
      "27         Queens  pest_control                 weed killer        16  23.99   \n",
      "28         Queens       planter  20 inch terracotta planter        87  17.99   \n",
      "\n",
      "   in_stock  \n",
      "0      True  \n",
      "1      True  \n",
      "2      True  \n",
      "3      True  \n",
      "4     False  \n",
      "5      True  \n",
      "6      True  \n",
      "7      True  \n",
      "8     False  \n",
      "9      True  \n",
      "10     True  \n",
      "11    False  \n",
      "12    False  \n",
      "13     True  \n",
      "14     True  \n",
      "15     True  \n",
      "16     True  \n",
      "17     True  \n",
      "18     True  \n",
      "19     True  \n",
      "20     True  \n",
      "21     True  \n",
      "22     True  \n",
      "23     True  \n",
      "24     True  \n",
      "25     True  \n",
      "26    False  \n",
      "27     True  \n",
      "28     True  \n"
     ]
    }
   ],
   "source": [
    "print(inventory)"
   ]
  },
  {
   "cell_type": "code",
   "execution_count": 30,
   "id": "cordless-people",
   "metadata": {},
   "outputs": [],
   "source": [
    "inventory['total_value'] =  inventory['price'] * inventory['quantity']"
   ]
  },
  {
   "cell_type": "code",
   "execution_count": 31,
   "id": "divine-norfolk",
   "metadata": {},
   "outputs": [
    {
     "name": "stdout",
     "output_type": "stream",
     "text": [
      "         location  product_type         product_description  quantity  price  \\\n",
      "0   Staten Island         seeds                       daisy         4   6.99   \n",
      "1   Staten Island         seeds                  calla lily        46  19.99   \n",
      "2   Staten Island         seeds                      tomato        85  13.99   \n",
      "3   Staten Island  garden tools                        rake         4  13.99   \n",
      "4   Staten Island  garden tools                 wheelbarrow         0  89.99   \n",
      "5   Staten Island  garden tools                       spade        93  19.99   \n",
      "6   Staten Island  pest_control               insect killer        74  12.99   \n",
      "7   Staten Island  pest_control                 weed killer         8  23.99   \n",
      "8   Staten Island       planter  20 inch terracotta planter         0  17.99   \n",
      "9   Staten Island       planter      8 inch plastic planter        53   3.99   \n",
      "10       Brooklyn         seeds                       daisy        50   6.99   \n",
      "11       Brooklyn         seeds                  calla lily         0  19.99   \n",
      "12       Brooklyn         seeds                      tomato         0  13.99   \n",
      "13       Brooklyn  garden tools                        rake        15  13.99   \n",
      "14       Brooklyn  garden tools                 wheelbarrow        82  89.99   \n",
      "15       Brooklyn  garden tools                       spade        36  19.99   \n",
      "16       Brooklyn  pest_control               insect killer        80  12.99   \n",
      "17       Brooklyn  pest_control                 weed killer        76  23.99   \n",
      "18       Brooklyn       planter  20 inch terracotta planter         5  17.99   \n",
      "19       Brooklyn       planter      8 inch plastic planter        26   3.99   \n",
      "20         Queens         seeds                       daisy        57   6.99   \n",
      "21         Queens         seeds                  calla lily        95  19.99   \n",
      "22         Queens         seeds                      tomato        45  13.99   \n",
      "23         Queens  garden tools                        rake        21  13.99   \n",
      "24         Queens  garden tools                 wheelbarrow        98  89.99   \n",
      "25         Queens  garden tools                       spade        26  19.99   \n",
      "26         Queens  pest_control               insect killer         0  12.99   \n",
      "27         Queens  pest_control                 weed killer        16  23.99   \n",
      "28         Queens       planter  20 inch terracotta planter        87  17.99   \n",
      "\n",
      "   in_stock  total_value  \n",
      "0      True        27.96  \n",
      "1      True       919.54  \n",
      "2      True      1189.15  \n",
      "3      True        55.96  \n",
      "4     False         0.00  \n",
      "5      True      1859.07  \n",
      "6      True       961.26  \n",
      "7      True       191.92  \n",
      "8     False         0.00  \n",
      "9      True       211.47  \n",
      "10     True       349.50  \n",
      "11    False         0.00  \n",
      "12    False         0.00  \n",
      "13     True       209.85  \n",
      "14     True      7379.18  \n",
      "15     True       719.64  \n",
      "16     True      1039.20  \n",
      "17     True      1823.24  \n",
      "18     True        89.95  \n",
      "19     True       103.74  \n",
      "20     True       398.43  \n",
      "21     True      1899.05  \n",
      "22     True       629.55  \n",
      "23     True       293.79  \n",
      "24     True      8819.02  \n",
      "25     True       519.74  \n",
      "26    False         0.00  \n",
      "27     True       383.84  \n",
      "28     True      1565.13  \n"
     ]
    }
   ],
   "source": [
    "print(inventory)"
   ]
  },
  {
   "cell_type": "code",
   "execution_count": 40,
   "id": "ambient-keeping",
   "metadata": {},
   "outputs": [],
   "source": [
    "combine_lambda = lambda row: \\\n",
    "    '{} - {}'.format(row['product_type'],\n",
    "                     row['product_description'])"
   ]
  },
  {
   "cell_type": "code",
   "execution_count": 42,
   "id": "thrown-distributor",
   "metadata": {},
   "outputs": [],
   "source": [
    "inventory['full_description'] = inventory.apply(combine_lambda, axis=1)"
   ]
  },
  {
   "cell_type": "code",
   "execution_count": 43,
   "id": "linear-electricity",
   "metadata": {},
   "outputs": [
    {
     "name": "stdout",
     "output_type": "stream",
     "text": [
      "         location  product_type         product_description  quantity  price  \\\n",
      "0   Staten Island         seeds                       daisy         4   6.99   \n",
      "1   Staten Island         seeds                  calla lily        46  19.99   \n",
      "2   Staten Island         seeds                      tomato        85  13.99   \n",
      "3   Staten Island  garden tools                        rake         4  13.99   \n",
      "4   Staten Island  garden tools                 wheelbarrow         0  89.99   \n",
      "5   Staten Island  garden tools                       spade        93  19.99   \n",
      "6   Staten Island  pest_control               insect killer        74  12.99   \n",
      "7   Staten Island  pest_control                 weed killer         8  23.99   \n",
      "8   Staten Island       planter  20 inch terracotta planter         0  17.99   \n",
      "9   Staten Island       planter      8 inch plastic planter        53   3.99   \n",
      "10       Brooklyn         seeds                       daisy        50   6.99   \n",
      "11       Brooklyn         seeds                  calla lily         0  19.99   \n",
      "12       Brooklyn         seeds                      tomato         0  13.99   \n",
      "13       Brooklyn  garden tools                        rake        15  13.99   \n",
      "14       Brooklyn  garden tools                 wheelbarrow        82  89.99   \n",
      "15       Brooklyn  garden tools                       spade        36  19.99   \n",
      "16       Brooklyn  pest_control               insect killer        80  12.99   \n",
      "17       Brooklyn  pest_control                 weed killer        76  23.99   \n",
      "18       Brooklyn       planter  20 inch terracotta planter         5  17.99   \n",
      "19       Brooklyn       planter      8 inch plastic planter        26   3.99   \n",
      "20         Queens         seeds                       daisy        57   6.99   \n",
      "21         Queens         seeds                  calla lily        95  19.99   \n",
      "22         Queens         seeds                      tomato        45  13.99   \n",
      "23         Queens  garden tools                        rake        21  13.99   \n",
      "24         Queens  garden tools                 wheelbarrow        98  89.99   \n",
      "25         Queens  garden tools                       spade        26  19.99   \n",
      "26         Queens  pest_control               insect killer         0  12.99   \n",
      "27         Queens  pest_control                 weed killer        16  23.99   \n",
      "28         Queens       planter  20 inch terracotta planter        87  17.99   \n",
      "\n",
      "   in_stock  total_value                      full_description  \n",
      "0      True        27.96                         seeds - daisy  \n",
      "1      True       919.54                    seeds - calla lily  \n",
      "2      True      1189.15                        seeds - tomato  \n",
      "3      True        55.96                   garden tools - rake  \n",
      "4     False         0.00            garden tools - wheelbarrow  \n",
      "5      True      1859.07                  garden tools - spade  \n",
      "6      True       961.26          pest_control - insect killer  \n",
      "7      True       191.92            pest_control - weed killer  \n",
      "8     False         0.00  planter - 20 inch terracotta planter  \n",
      "9      True       211.47      planter - 8 inch plastic planter  \n",
      "10     True       349.50                         seeds - daisy  \n",
      "11    False         0.00                    seeds - calla lily  \n",
      "12    False         0.00                        seeds - tomato  \n",
      "13     True       209.85                   garden tools - rake  \n",
      "14     True      7379.18            garden tools - wheelbarrow  \n",
      "15     True       719.64                  garden tools - spade  \n",
      "16     True      1039.20          pest_control - insect killer  \n",
      "17     True      1823.24            pest_control - weed killer  \n",
      "18     True        89.95  planter - 20 inch terracotta planter  \n",
      "19     True       103.74      planter - 8 inch plastic planter  \n",
      "20     True       398.43                         seeds - daisy  \n",
      "21     True      1899.05                    seeds - calla lily  \n",
      "22     True       629.55                        seeds - tomato  \n",
      "23     True       293.79                   garden tools - rake  \n",
      "24     True      8819.02            garden tools - wheelbarrow  \n",
      "25     True       519.74                  garden tools - spade  \n",
      "26    False         0.00          pest_control - insect killer  \n",
      "27     True       383.84            pest_control - weed killer  \n",
      "28     True      1565.13  planter - 20 inch terracotta planter  \n"
     ]
    }
   ],
   "source": [
    "print(inventory)"
   ]
  },
  {
   "cell_type": "code",
   "execution_count": null,
   "id": "diagnostic-healthcare",
   "metadata": {},
   "outputs": [],
   "source": []
  }
 ],
 "metadata": {
  "kernelspec": {
   "display_name": "Python 3",
   "language": "python",
   "name": "python3"
  },
  "language_info": {
   "codemirror_mode": {
    "name": "ipython",
    "version": 3
   },
   "file_extension": ".py",
   "mimetype": "text/x-python",
   "name": "python",
   "nbconvert_exporter": "python",
   "pygments_lexer": "ipython3",
   "version": "3.8.5"
  }
 },
 "nbformat": 4,
 "nbformat_minor": 5
}
