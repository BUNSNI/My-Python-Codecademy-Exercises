{
 "cells": [
  {
   "cell_type": "code",
   "execution_count": 56,
   "id": "decent-design",
   "metadata": {},
   "outputs": [],
   "source": [
    "import pandas as pd"
   ]
  },
  {
   "cell_type": "markdown",
   "id": "enclosed-longitude",
   "metadata": {},
   "source": [
    "Create Dataframes for each csv file"
   ]
  },
  {
   "cell_type": "code",
   "execution_count": 13,
   "id": "organizational-greeting",
   "metadata": {},
   "outputs": [],
   "source": [
    "visits = pd.read_csv('visits.csv')\n",
    "cart = pd.read_csv('cart.csv',\n",
    "                   parse_dates=[1])\n",
    "checkout = pd.read_csv('checkout.csv',\n",
    "                       parse_dates=[1])\n",
    "purchase = pd.read_csv('purchase.csv',\n",
    "                       parse_dates=[1])"
   ]
  },
  {
   "cell_type": "markdown",
   "id": "still-smart",
   "metadata": {},
   "source": [
    "Print out each dataframe, checking the first five rows with head()"
   ]
  },
  {
   "cell_type": "code",
   "execution_count": 107,
   "id": "textile-review",
   "metadata": {},
   "outputs": [
    {
     "name": "stdout",
     "output_type": "stream",
     "text": [
      "                                user_id           visit_time\n",
      "0  943647ef-3682-4750-a2e1-918ba6f16188  2017-04-07 15:14:00\n",
      "1  0c3a3dd0-fb64-4eac-bf84-ba069ce409f2  2017-01-26 14:24:00\n",
      "2  6e0b2d60-4027-4d9a-babd-0e7d40859fb1  2017-08-20 08:23:00\n",
      "3  6879527e-c5a6-4d14-b2da-50b85212b0ab  2017-11-04 18:15:00\n",
      "4  a84327ff-5daa-4ba1-b789-d5b4caf81e96  2017-02-27 11:25:00\n",
      "                                user_id           cart_time\n",
      "0  2be90e7c-9cca-44e0-bcc5-124b945ff168 2017-11-07 20:45:00\n",
      "1  4397f73f-1da3-4ab3-91af-762792e25973 2017-05-27 01:35:00\n",
      "2  a9db3d4b-0a0a-4398-a55a-ebb2c7adf663 2017-03-04 10:38:00\n",
      "3  b594862a-36c5-47d5-b818-6e9512b939b3 2017-09-27 08:22:00\n",
      "4  a68a16e2-94f0-4ce8-8ce3-784af0bbb974 2017-07-26 15:48:00\n",
      "                                user_id       checkout_time\n",
      "0  d33bdc47-4afa-45bc-b4e4-dbe948e34c0d 2017-06-25 09:29:00\n",
      "1  4ac186f0-9954-4fea-8a27-c081e428e34e 2017-04-07 20:11:00\n",
      "2  3c9c78a7-124a-4b77-8d2e-e1926e011e7d 2017-07-13 11:38:00\n",
      "3  89fe330a-8966-4756-8f7c-3bdbcd47279a 2017-04-20 16:15:00\n",
      "4  3ccdaf69-2d30-40de-b083-51372881aedd 2017-01-08 20:52:00\n",
      "                                user_id       purchase_time\n",
      "0  4b44ace4-2721-47a0-b24b-15fbfa2abf85 2017-05-11 04:25:00\n",
      "1  02e684ae-a448-408f-a9ff-dcb4a5c99aac 2017-09-05 08:45:00\n",
      "2  4b4bc391-749e-4b90-ab8f-4f6e3c84d6dc 2017-11-20 20:49:00\n",
      "3  a5dbb25f-3c36-4103-9030-9f7c6241cd8d 2017-01-22 15:18:00\n",
      "4  46a3186d-7f5a-4ab9-87af-84d05bfd4867 2017-06-11 11:32:00\n",
      "348\n"
     ]
    }
   ],
   "source": [
    "print(visits.head())\n",
    "print(cart.head())\n",
    "print(checkout.head())\n",
    "print(purchase.head())\n",
    "print(cart.cart_time.count())"
   ]
  },
  {
   "cell_type": "markdown",
   "id": "bound-tribute",
   "metadata": {},
   "source": [
    "Merge dataframes visits and cart, then print out new merged dataframe"
   ]
  },
  {
   "cell_type": "code",
   "execution_count": 108,
   "id": "collected-bermuda",
   "metadata": {},
   "outputs": [
    {
     "name": "stdout",
     "output_type": "stream",
     "text": [
      "                                user_id           visit_time  \\\n",
      "0  943647ef-3682-4750-a2e1-918ba6f16188  2017-04-07 15:14:00   \n",
      "1  0c3a3dd0-fb64-4eac-bf84-ba069ce409f2  2017-01-26 14:24:00   \n",
      "2  6e0b2d60-4027-4d9a-babd-0e7d40859fb1  2017-08-20 08:23:00   \n",
      "3  6879527e-c5a6-4d14-b2da-50b85212b0ab  2017-11-04 18:15:00   \n",
      "4  a84327ff-5daa-4ba1-b789-d5b4caf81e96  2017-02-27 11:25:00   \n",
      "\n",
      "            cart_time  \n",
      "0                 NaT  \n",
      "1 2017-01-26 14:44:00  \n",
      "2 2017-08-20 08:31:00  \n",
      "3                 NaT  \n",
      "4                 NaT  \n"
     ]
    }
   ],
   "source": [
    "visits_carts = visits.merge(cart, how='left')\n",
    "print(visits_carts.head())"
   ]
  },
  {
   "cell_type": "markdown",
   "id": "about-motor",
   "metadata": {},
   "source": [
    "Check the quantity of null values in cart_time to see how many visits did not result in shoppers placing items in their cart"
   ]
  },
  {
   "cell_type": "code",
   "execution_count": 98,
   "id": "diagnostic-wealth",
   "metadata": {},
   "outputs": [
    {
     "name": "stdout",
     "output_type": "stream",
     "text": [
      "1652\n"
     ]
    }
   ],
   "source": [
    "print(visits_carts.cart_time.isnull().sum())"
   ]
  },
  {
   "cell_type": "markdown",
   "id": "coupled-approach",
   "metadata": {},
   "source": [
    "Therefore 1652 rows, of the 2000 rows based on visits df, are null values in cart_time. Which means 348 values in cart_time have a value. This makes sense, cart df is only 348 rows long."
   ]
  },
  {
   "cell_type": "markdown",
   "id": "british-witness",
   "metadata": {},
   "source": [
    "Count total visits"
   ]
  },
  {
   "cell_type": "code",
   "execution_count": 99,
   "id": "innovative-stations",
   "metadata": {},
   "outputs": [
    {
     "name": "stdout",
     "output_type": "stream",
     "text": [
      "2000\n"
     ]
    }
   ],
   "source": [
    "print(visits_carts.user_id.count())"
   ]
  },
  {
   "cell_type": "code",
   "execution_count": 100,
   "id": "sonic-routine",
   "metadata": {},
   "outputs": [
    {
     "data": {
      "text/html": [
       "<div>\n",
       "<style scoped>\n",
       "    .dataframe tbody tr th:only-of-type {\n",
       "        vertical-align: middle;\n",
       "    }\n",
       "\n",
       "    .dataframe tbody tr th {\n",
       "        vertical-align: top;\n",
       "    }\n",
       "\n",
       "    .dataframe thead th {\n",
       "        text-align: right;\n",
       "    }\n",
       "</style>\n",
       "<table border=\"1\" class=\"dataframe\">\n",
       "  <thead>\n",
       "    <tr style=\"text-align: right;\">\n",
       "      <th></th>\n",
       "      <th>user_id</th>\n",
       "      <th>visit_time</th>\n",
       "      <th>cart_time</th>\n",
       "    </tr>\n",
       "  </thead>\n",
       "  <tbody>\n",
       "    <tr>\n",
       "      <th>0</th>\n",
       "      <td>943647ef-3682-4750-a2e1-918ba6f16188</td>\n",
       "      <td>2017-04-07 15:14:00</td>\n",
       "      <td>NaT</td>\n",
       "    </tr>\n",
       "    <tr>\n",
       "      <th>3</th>\n",
       "      <td>6879527e-c5a6-4d14-b2da-50b85212b0ab</td>\n",
       "      <td>2017-11-04 18:15:00</td>\n",
       "      <td>NaT</td>\n",
       "    </tr>\n",
       "    <tr>\n",
       "      <th>4</th>\n",
       "      <td>a84327ff-5daa-4ba1-b789-d5b4caf81e96</td>\n",
       "      <td>2017-02-27 11:25:00</td>\n",
       "      <td>NaT</td>\n",
       "    </tr>\n",
       "    <tr>\n",
       "      <th>5</th>\n",
       "      <td>7bc62113-d51d-4e6b-85e0-1cf29e3de74a</td>\n",
       "      <td>2017-06-03 20:05:00</td>\n",
       "      <td>NaT</td>\n",
       "    </tr>\n",
       "    <tr>\n",
       "      <th>6</th>\n",
       "      <td>6f22cd44-bc63-4449-a9af-2651859da2f9</td>\n",
       "      <td>2017-03-18 23:09:00</td>\n",
       "      <td>NaT</td>\n",
       "    </tr>\n",
       "    <tr>\n",
       "      <th>...</th>\n",
       "      <td>...</td>\n",
       "      <td>...</td>\n",
       "      <td>...</td>\n",
       "    </tr>\n",
       "    <tr>\n",
       "      <th>1995</th>\n",
       "      <td>33913ac2-03da-45ae-8fc3-fea39df827c6</td>\n",
       "      <td>2017-03-25 03:29:00</td>\n",
       "      <td>NaT</td>\n",
       "    </tr>\n",
       "    <tr>\n",
       "      <th>1996</th>\n",
       "      <td>4f850132-b99d-4623-80e6-6e61d003577e</td>\n",
       "      <td>2017-01-08 09:57:00</td>\n",
       "      <td>NaT</td>\n",
       "    </tr>\n",
       "    <tr>\n",
       "      <th>1997</th>\n",
       "      <td>f0830b9b-1f5c-4e74-b63d-3f847cc6ce70</td>\n",
       "      <td>2017-09-07 12:56:00</td>\n",
       "      <td>NaT</td>\n",
       "    </tr>\n",
       "    <tr>\n",
       "      <th>1998</th>\n",
       "      <td>b01bffa7-63ba-4cd3-9d93-eb1477c23831</td>\n",
       "      <td>2017-07-20 04:37:00</td>\n",
       "      <td>NaT</td>\n",
       "    </tr>\n",
       "    <tr>\n",
       "      <th>1999</th>\n",
       "      <td>0336ca81-8d68-443f-9248-ac0b8ad147d5</td>\n",
       "      <td>2017-11-15 10:11:00</td>\n",
       "      <td>NaT</td>\n",
       "    </tr>\n",
       "  </tbody>\n",
       "</table>\n",
       "<p>1652 rows × 3 columns</p>\n",
       "</div>"
      ],
      "text/plain": [
       "                                   user_id           visit_time cart_time\n",
       "0     943647ef-3682-4750-a2e1-918ba6f16188  2017-04-07 15:14:00       NaT\n",
       "3     6879527e-c5a6-4d14-b2da-50b85212b0ab  2017-11-04 18:15:00       NaT\n",
       "4     a84327ff-5daa-4ba1-b789-d5b4caf81e96  2017-02-27 11:25:00       NaT\n",
       "5     7bc62113-d51d-4e6b-85e0-1cf29e3de74a  2017-06-03 20:05:00       NaT\n",
       "6     6f22cd44-bc63-4449-a9af-2651859da2f9  2017-03-18 23:09:00       NaT\n",
       "...                                    ...                  ...       ...\n",
       "1995  33913ac2-03da-45ae-8fc3-fea39df827c6  2017-03-25 03:29:00       NaT\n",
       "1996  4f850132-b99d-4623-80e6-6e61d003577e  2017-01-08 09:57:00       NaT\n",
       "1997  f0830b9b-1f5c-4e74-b63d-3f847cc6ce70  2017-09-07 12:56:00       NaT\n",
       "1998  b01bffa7-63ba-4cd3-9d93-eb1477c23831  2017-07-20 04:37:00       NaT\n",
       "1999  0336ca81-8d68-443f-9248-ac0b8ad147d5  2017-11-15 10:11:00       NaT\n",
       "\n",
       "[1652 rows x 3 columns]"
      ]
     },
     "execution_count": 100,
     "metadata": {},
     "output_type": "execute_result"
    }
   ],
   "source": [
    "visits_carts[visits_carts.cart_time.isnull()]"
   ]
  },
  {
   "cell_type": "markdown",
   "id": "coordinate-story",
   "metadata": {},
   "source": [
    "Work out the percent of visits that did not result in shoppers placing an item in their cart:"
   ]
  },
  {
   "cell_type": "code",
   "execution_count": 101,
   "id": "turned-minute",
   "metadata": {},
   "outputs": [],
   "source": [
    "percent_visits_to_carts = (visits_carts.cart_time.isnull().sum()/visits_carts.user_id.count()) * 100"
   ]
  },
  {
   "cell_type": "code",
   "execution_count": 137,
   "id": "supreme-background",
   "metadata": {},
   "outputs": [
    {
     "name": "stdout",
     "output_type": "stream",
     "text": [
      "82.6% of shoppers after visiting do not place a t-shirt in their cart\n"
     ]
    }
   ],
   "source": [
    "print(str(percent_visits_to_carts) + '% of shoppers after visiting do not place a t-shirt in their cart')"
   ]
  },
  {
   "cell_type": "markdown",
   "id": "herbal-equity",
   "metadata": {},
   "source": [
    "Repeat the left merge for cart and checkout and count null values. What percentage of users put items in their cart, but did not proceed to checkout?"
   ]
  },
  {
   "cell_type": "code",
   "execution_count": 114,
   "id": "alpha-porter",
   "metadata": {},
   "outputs": [
    {
     "name": "stdout",
     "output_type": "stream",
     "text": [
      "                                  user_id           cart_time  \\\n",
      "0    2be90e7c-9cca-44e0-bcc5-124b945ff168 2017-11-07 20:45:00   \n",
      "3    4397f73f-1da3-4ab3-91af-762792e25973 2017-05-27 01:35:00   \n",
      "4    a9db3d4b-0a0a-4398-a55a-ebb2c7adf663 2017-03-04 10:38:00   \n",
      "5    b594862a-36c5-47d5-b818-6e9512b939b3 2017-09-27 08:22:00   \n",
      "6    a68a16e2-94f0-4ce8-8ce3-784af0bbb974 2017-07-26 15:48:00   \n",
      "..                                    ...                 ...   \n",
      "475  952be3a5-9240-484f-845c-a6b2cbed72ee 2017-05-02 05:40:00   \n",
      "477  59d2b685-383a-4fce-a325-35d985713a8b 2017-01-20 03:58:00   \n",
      "478  a1203970-92ae-4fc7-843e-e1740c1be9d5 2017-11-12 23:07:00   \n",
      "479  55de53ae-89f6-43ff-a26d-df284678aca1 2017-03-17 19:56:00   \n",
      "480  0ea4cc68-dae4-4e35-b3e0-f0889932e1b5 2017-05-12 08:53:00   \n",
      "\n",
      "          checkout_time  \n",
      "0   2017-11-07 21:14:00  \n",
      "3                   NaT  \n",
      "4   2017-03-04 11:04:00  \n",
      "5   2017-09-27 08:26:00  \n",
      "6                   NaT  \n",
      "..                  ...  \n",
      "475 2017-05-02 05:50:00  \n",
      "477                 NaT  \n",
      "478                 NaT  \n",
      "479 2017-03-17 20:04:00  \n",
      "480 2017-05-12 08:57:00  \n",
      "\n",
      "[348 rows x 3 columns]\n"
     ]
    }
   ],
   "source": [
    "carts_checkout = pd.merge(cart, checkout, how='left').drop_duplicates(subset='user_id')\n",
    "print(carts_checkout)"
   ]
  },
  {
   "cell_type": "markdown",
   "id": "manufactured-equity",
   "metadata": {},
   "source": [
    "What percentage of users put items in their cart, but did not proceed to checkout?"
   ]
  },
  {
   "cell_type": "code",
   "execution_count": 143,
   "id": "resistant-prevention",
   "metadata": {},
   "outputs": [
    {
     "name": "stdout",
     "output_type": "stream",
     "text": [
      "122\n",
      "348\n"
     ]
    }
   ],
   "source": [
    "print(carts_checkout.checkout_time.isnull().sum())\n",
    "print(carts_checkout.user_id.count())"
   ]
  },
  {
   "cell_type": "code",
   "execution_count": 144,
   "id": "accepting-marijuana",
   "metadata": {},
   "outputs": [
    {
     "name": "stdout",
     "output_type": "stream",
     "text": [
      "35% of shoppers who put an item in their cart, but did not proceed to checkout\n"
     ]
    }
   ],
   "source": [
    "Percent_carts_checkout = (carts_checkout.checkout_time.isnull().sum()/carts_checkout.user_id.count())*100\n",
    "print(str(int(Percent_carts_checkout)) + '% of shoppers who put an item in their cart, but did not proceed to checkout')"
   ]
  },
  {
   "cell_type": "code",
   "execution_count": 119,
   "id": "functioning-simon",
   "metadata": {},
   "outputs": [
    {
     "name": "stdout",
     "output_type": "stream",
     "text": [
      "                                user_id           visit_time  \\\n",
      "0  943647ef-3682-4750-a2e1-918ba6f16188  2017-04-07 15:14:00   \n",
      "1  0c3a3dd0-fb64-4eac-bf84-ba069ce409f2  2017-01-26 14:24:00   \n",
      "2  6e0b2d60-4027-4d9a-babd-0e7d40859fb1  2017-08-20 08:23:00   \n",
      "3  6879527e-c5a6-4d14-b2da-50b85212b0ab  2017-11-04 18:15:00   \n",
      "4  a84327ff-5daa-4ba1-b789-d5b4caf81e96  2017-02-27 11:25:00   \n",
      "\n",
      "            cart_time       checkout_time       purchase_time  \n",
      "0                 NaT                 NaT                 NaT  \n",
      "1 2017-01-26 14:44:00 2017-01-26 14:54:00 2017-01-26 15:08:00  \n",
      "2 2017-08-20 08:31:00                 NaT                 NaT  \n",
      "3                 NaT                 NaT                 NaT  \n",
      "4                 NaT                 NaT                 NaT  \n"
     ]
    }
   ],
   "source": [
    "df_merge = visits.merge(cart, how='left').merge(checkout, how='left').merge(purchase, how='left').drop_duplicates(subset='user_id')\n",
    "print(df_merge.head())"
   ]
  },
  {
   "cell_type": "markdown",
   "id": "generous-spine",
   "metadata": {},
   "source": [
    "\n",
    "What percentage of users proceeded to checkout, but did not purchase a t-shirt?"
   ]
  },
  {
   "cell_type": "code",
   "execution_count": 138,
   "id": "raised-detroit",
   "metadata": {},
   "outputs": [
    {
     "name": "stdout",
     "output_type": "stream",
     "text": [
      "144\n",
      "226\n"
     ]
    }
   ],
   "source": [
    "print(df_merge.user_id.count() - df_merge['purchase_time'].isnull().sum())\n",
    "print(df_merge.user_id.count() - df_merge['checkout_time'].isnull().sum())"
   ]
  },
  {
   "cell_type": "code",
   "execution_count": 139,
   "id": "comprehensive-smell",
   "metadata": {},
   "outputs": [],
   "source": [
    "percent_checkout_purchase = (df_merge.user_id.count() - df_merge['purchase_time'].isnull().sum())/(df_merge.user_id.count() - df_merge['checkout_time'].isnull().sum())*100"
   ]
  },
  {
   "cell_type": "code",
   "execution_count": 142,
   "id": "emotional-dream",
   "metadata": {},
   "outputs": [
    {
     "name": "stdout",
     "output_type": "stream",
     "text": [
      "63% of shoppers who proceeded to checkout and then did not purchase a t-shirt\n"
     ]
    }
   ],
   "source": [
    "print(str(int(percent_checkout_purchase)) + '% of shoppers who proceeded to checkout and then did not purchase a t-shirt')"
   ]
  },
  {
   "cell_type": "markdown",
   "id": "mental-salem",
   "metadata": {},
   "source": [
    "82.6% of shoppers after visiting do not place a t-shirt in their cart\n",
    "35% of shoppers who put an item in their cart, but did not proceed to checkout"
   ]
  }
 ],
 "metadata": {
  "kernelspec": {
   "display_name": "Python 3",
   "language": "python",
   "name": "python3"
  },
  "language_info": {
   "codemirror_mode": {
    "name": "ipython",
    "version": 3
   },
   "file_extension": ".py",
   "mimetype": "text/x-python",
   "name": "python",
   "nbconvert_exporter": "python",
   "pygments_lexer": "ipython3",
   "version": "3.8.5"
  }
 },
 "nbformat": 4,
 "nbformat_minor": 5
}
