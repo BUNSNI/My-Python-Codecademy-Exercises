{
 "cells": [
  {
   "cell_type": "code",
   "execution_count": 9,
   "metadata": {},
   "outputs": [],
   "source": [
    "def append_sum(lst):\n",
    "    sum = lst[-1] + lst[-2]\n",
    "    lst.append(sum)\n",
    "    sum = lst[-1] + lst[-2]\n",
    "    lst.append(sum)\n",
    "    sum = lst[-1] + lst[-2]\n",
    "    lst.append(sum)\n",
    "    return lst"
   ]
  },
  {
   "cell_type": "code",
   "execution_count": 12,
   "metadata": {},
   "outputs": [
    {
     "name": "stdout",
     "output_type": "stream",
     "text": [
      "[1, 3, 4, 7, 11, 18]\n"
     ]
    }
   ],
   "source": [
    "print(append_sum([1,3,4]))"
   ]
  },
  {
   "cell_type": "code",
   "execution_count": 20,
   "metadata": {},
   "outputs": [],
   "source": [
    "lst1 = [10,22,3]"
   ]
  },
  {
   "cell_type": "code",
   "execution_count": 21,
   "metadata": {},
   "outputs": [],
   "source": [
    "lst2 = [4,5,6]\n",
    "lst3 = lst1 + lst2"
   ]
  },
  {
   "cell_type": "code",
   "execution_count": 22,
   "metadata": {},
   "outputs": [
    {
     "name": "stdout",
     "output_type": "stream",
     "text": [
      "[10, 22, 3, 4, 5, 6]\n"
     ]
    }
   ],
   "source": [
    "print(lst3)"
   ]
  },
  {
   "cell_type": "code",
   "execution_count": 24,
   "metadata": {},
   "outputs": [],
   "source": [
    "lst3.sort()"
   ]
  },
  {
   "cell_type": "code",
   "execution_count": 25,
   "metadata": {},
   "outputs": [
    {
     "name": "stdout",
     "output_type": "stream",
     "text": [
      "[3, 4, 5, 6, 10, 22]\n"
     ]
    }
   ],
   "source": [
    "print(lst3)"
   ]
  },
  {
   "cell_type": "code",
   "execution_count": 8,
   "metadata": {},
   "outputs": [
    {
     "name": "stdout",
     "output_type": "stream",
     "text": [
      "[0, 1, 2, 3, 4, 5, 6, 7, 8, 9, 10, 11, 12, 13, 14, 15, 16, 17, 18, 19, 20, 21, 22, 23, 24, 25, 26, 27, 28, 29, 30, 31, 32, 33, 34, 35, 36, 37, 38, 39, 40, 41, 42, 43, 44, 45, 46, 47, 48, 49, 50, 51, 52, 53, 54, 55, 56, 57, 58, 59, 60, 61, 62, 63, 64, 65, 66, 67, 68, 69, 70, 71, 72, 73, 74, 75, 76, 77, 78, 79, 80, 81, 82, 83, 84, 85, 86, 87, 88, 89, 90, 91, 92, 93, 94, 95, 96, 97, 98]\n"
     ]
    }
   ],
   "source": [
    "jump = list(range(0,99))\n",
    "print(jump)"
   ]
  },
  {
   "cell_type": "code",
   "execution_count": 37,
   "metadata": {},
   "outputs": [
    {
     "name": "stdout",
     "output_type": "stream",
     "text": [
      "[4, 16, 23, 42]\n"
     ]
    }
   ],
   "source": [
    "def remove_middle(lst, start, end):\n",
    "    lst[start:end] = []\n",
    "    return lst\n",
    "    \n",
    "print(remove_middle([4, 8, 15, 16, 23, 42], 1, 3))"
   ]
  },
  {
   "cell_type": "code",
   "execution_count": 38,
   "metadata": {},
   "outputs": [],
   "source": [
    "def more_frequent_item(lst, item1, item2):\n",
    "    x = lst.count(item1)\n",
    "    y = lst.count(item2)\n",
    "    if x >= y:\n",
    "        return item1\n",
    "    else:\n",
    "        return item2"
   ]
  },
  {
   "cell_type": "code",
   "execution_count": 39,
   "metadata": {},
   "outputs": [
    {
     "name": "stdout",
     "output_type": "stream",
     "text": [
      "3\n"
     ]
    }
   ],
   "source": [
    "print(more_frequent_item([2, 3, 3, 2, 3, 2, 3, 2, 3], 2, 3))"
   ]
  },
  {
   "cell_type": "code",
   "execution_count": 43,
   "metadata": {},
   "outputs": [
    {
     "name": "stdout",
     "output_type": "stream",
     "text": [
      "[3, 8, -10, 12]\n"
     ]
    }
   ],
   "source": [
    "def double_index(lst, index):\n",
    "    list_length = len(lst) - 1\n",
    "    if list_length >= index:\n",
    "        replacement_value = lst[index] * 2\n",
    "        lst[index] = replacement_value\n",
    "          return lst\n",
    "    else:\n",
    "          return lst\n",
    "\n",
    "print(double_index([3, 8, -10, 12], 5))"
   ]
  },
  {
   "cell_type": "code",
   "execution_count": 63,
   "metadata": {},
   "outputs": [],
   "source": [
    "def middle_element(lst):\n",
    "    list_length = len(lst)\n",
    "    if list_length % 2 == 0:\n",
    "        x = list_length / 2\n",
    "        y = x - 1\n",
    "        return lst[int(x)] + lst[int(y)] / 2\n",
    "    else:\n",
    "        x = list_length - 1\n",
    "        return lst[x/2]\n",
    "    "
   ]
  },
  {
   "cell_type": "code",
   "execution_count": 64,
   "metadata": {},
   "outputs": [
    {
     "name": "stdout",
     "output_type": "stream",
     "text": [
      "-9.0\n"
     ]
    }
   ],
   "source": [
    "print(middle_element([5, 2, -10, -4, 4, 5]))"
   ]
  },
  {
   "cell_type": "code",
   "execution_count": null,
   "metadata": {},
   "outputs": [],
   "source": []
  }
 ],
 "metadata": {
  "kernelspec": {
   "display_name": "Python 3",
   "language": "python",
   "name": "python3"
  },
  "language_info": {
   "codemirror_mode": {
    "name": "ipython",
    "version": 3
   },
   "file_extension": ".py",
   "mimetype": "text/x-python",
   "name": "python",
   "nbconvert_exporter": "python",
   "pygments_lexer": "ipython3",
   "version": "3.8.5"
  }
 },
 "nbformat": 4,
 "nbformat_minor": 4
}
